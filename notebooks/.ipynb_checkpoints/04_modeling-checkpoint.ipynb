{
 "cells": [
  {
   "cell_type": "code",
   "execution_count": 1,
   "id": "5c5c69c0-c785-47b6-a33e-83aa13d72c5f",
   "metadata": {},
   "outputs": [
    {
     "data": {
      "text/html": [
       "<div>\n",
       "<style scoped>\n",
       "    .dataframe tbody tr th:only-of-type {\n",
       "        vertical-align: middle;\n",
       "    }\n",
       "\n",
       "    .dataframe tbody tr th {\n",
       "        vertical-align: top;\n",
       "    }\n",
       "\n",
       "    .dataframe thead th {\n",
       "        text-align: right;\n",
       "    }\n",
       "</style>\n",
       "<table border=\"1\" class=\"dataframe\">\n",
       "  <thead>\n",
       "    <tr style=\"text-align: right;\">\n",
       "      <th></th>\n",
       "      <th>customer_id</th>\n",
       "      <th>recency_days</th>\n",
       "      <th>frequency</th>\n",
       "      <th>monetary</th>\n",
       "      <th>products_count</th>\n",
       "      <th>churn_90d</th>\n",
       "    </tr>\n",
       "  </thead>\n",
       "  <tbody>\n",
       "    <tr>\n",
       "      <th>0</th>\n",
       "      <td>1</td>\n",
       "      <td>123.0</td>\n",
       "      <td>3.0</td>\n",
       "      <td>5754.60</td>\n",
       "      <td>0</td>\n",
       "      <td>0</td>\n",
       "    </tr>\n",
       "    <tr>\n",
       "      <th>1</th>\n",
       "      <td>2</td>\n",
       "      <td>92.0</td>\n",
       "      <td>3.0</td>\n",
       "      <td>9871.74</td>\n",
       "      <td>0</td>\n",
       "      <td>0</td>\n",
       "    </tr>\n",
       "    <tr>\n",
       "      <th>2</th>\n",
       "      <td>3</td>\n",
       "      <td>62.0</td>\n",
       "      <td>5.0</td>\n",
       "      <td>10495.10</td>\n",
       "      <td>0</td>\n",
       "      <td>0</td>\n",
       "    </tr>\n",
       "    <tr>\n",
       "      <th>3</th>\n",
       "      <td>4</td>\n",
       "      <td>31.0</td>\n",
       "      <td>4.0</td>\n",
       "      <td>6433.98</td>\n",
       "      <td>0</td>\n",
       "      <td>1</td>\n",
       "    </tr>\n",
       "    <tr>\n",
       "      <th>4</th>\n",
       "      <td>5</td>\n",
       "      <td>62.0</td>\n",
       "      <td>4.0</td>\n",
       "      <td>8384.69</td>\n",
       "      <td>0</td>\n",
       "      <td>0</td>\n",
       "    </tr>\n",
       "  </tbody>\n",
       "</table>\n",
       "</div>"
      ],
      "text/plain": [
       "   customer_id  recency_days  frequency  monetary  products_count  churn_90d\n",
       "0            1         123.0        3.0   5754.60               0          0\n",
       "1            2          92.0        3.0   9871.74               0          0\n",
       "2            3          62.0        5.0  10495.10               0          0\n",
       "3            4          31.0        4.0   6433.98               0          1\n",
       "4            5          62.0        4.0   8384.69               0          0"
      ]
     },
     "execution_count": 1,
     "metadata": {},
     "output_type": "execute_result"
    }
   ],
   "source": [
    "import pandas as pd\n",
    "import numpy as np\n",
    "import os\n",
    "\n",
    "# Ajustar diretório\n",
    "os.chdir(r\"C:\\Users\\DELL\\Documents\\bank-analyst-project\")\n",
    "\n",
    "# Carregar features\n",
    "df = pd.read_csv(\"data/processed/features_table.csv\")\n",
    "df.head()\n"
   ]
  },
  {
   "cell_type": "code",
   "execution_count": 2,
   "id": "f14d2eee-c5b6-4c91-aee7-32390d24536d",
   "metadata": {},
   "outputs": [
    {
     "name": "stdout",
     "output_type": "stream",
     "text": [
      "Tamanho train: 800\n",
      "Tamanho test: 200\n"
     ]
    }
   ],
   "source": [
    "from sklearn.model_selection import train_test_split\n",
    "\n",
    "# Exemplo de split aleatório (temporal seria ideal na vida real)\n",
    "train, test = train_test_split(df, test_size=0.2, random_state=42, shuffle=True)\n",
    "\n",
    "print(\"Tamanho train:\", len(train))\n",
    "print(\"Tamanho test:\", len(test))\n"
   ]
  },
  {
   "cell_type": "code",
   "execution_count": 3,
   "id": "86bd1308-be66-4bb2-b10f-df5e8db8b0a5",
   "metadata": {},
   "outputs": [
    {
     "name": "stdout",
     "output_type": "stream",
     "text": [
      "AUC Regressão Logística: 0.4286738351254481\n"
     ]
    }
   ],
   "source": [
    "from sklearn.linear_model import LogisticRegression\n",
    "from sklearn.metrics import roc_auc_score\n",
    "\n",
    "# Escolher features disponíveis (ajuste conforme seu CSV)\n",
    "feature_cols = ['recency_days','frequency','monetary','products_count']  # se não tiver age, não inclua\n",
    "X_train = train[feature_cols].fillna(0)\n",
    "y_train = train['churn_90d']\n",
    "X_test = test[feature_cols].fillna(0)\n",
    "y_test = test['churn_90d']\n",
    "\n",
    "# Treinar modelo\n",
    "clf = LogisticRegression(max_iter=1000)\n",
    "clf.fit(X_train, y_train)\n",
    "\n",
    "# Predição e AUC\n",
    "preds = clf.predict_proba(X_test)[:,1]\n",
    "auc_logistic = roc_auc_score(y_test, preds)\n",
    "print(\"AUC Regressão Logística:\", auc_logistic)\n"
   ]
  },
  {
   "cell_type": "code",
   "execution_count": 4,
   "id": "b46162f0-e1b6-4bd0-8648-dbac1f369f93",
   "metadata": {},
   "outputs": [
    {
     "name": "stdout",
     "output_type": "stream",
     "text": [
      "[0]\ttest-auc:0.59692\n",
      "[1]\ttest-auc:0.59670\n",
      "[2]\ttest-auc:0.57427\n",
      "[3]\ttest-auc:0.55649\n",
      "[4]\ttest-auc:0.54903\n",
      "[5]\ttest-auc:0.56029\n",
      "[6]\ttest-auc:0.56337\n",
      "[7]\ttest-auc:0.56495\n",
      "[8]\ttest-auc:0.56172\n",
      "[9]\ttest-auc:0.56115\n",
      "[10]\ttest-auc:0.56122\n",
      "[11]\ttest-auc:0.56939\n",
      "[12]\ttest-auc:0.55341\n",
      "[13]\ttest-auc:0.55685\n",
      "[14]\ttest-auc:0.55842\n",
      "[15]\ttest-auc:0.56315\n",
      "[16]\ttest-auc:0.56932\n",
      "[17]\ttest-auc:0.57405\n",
      "[18]\ttest-auc:0.56781\n",
      "[19]\ttest-auc:0.57534\n",
      "AUC XGBoost: 0.5751971326164873\n"
     ]
    }
   ],
   "source": [
    "import xgboost as xgb\n",
    "\n",
    "dtrain = xgb.DMatrix(X_train, label=y_train)\n",
    "dtest = xgb.DMatrix(X_test, label=y_test)\n",
    "\n",
    "params = {\"objective\":\"binary:logistic\", \"eval_metric\":\"auc\", \"seed\":42}\n",
    "bst = xgb.train(params, dtrain, num_boost_round=200, evals=[(dtest,'test')], early_stopping_rounds=20)\n",
    "\n",
    "preds_xgb = bst.predict(dtest)\n",
    "auc_xgb = roc_auc_score(y_test, preds_xgb)\n",
    "print(\"AUC XGBoost:\", auc_xgb)\n"
   ]
  },
  {
   "cell_type": "code",
   "execution_count": 5,
   "id": "df96d796-e33e-4744-89d8-59b48e944071",
   "metadata": {},
   "outputs": [
    {
     "name": "stdout",
     "output_type": "stream",
     "text": [
      "Precision@10% Regressão Logística: 0.2\n",
      "Precision@10% XGBoost: 0.35\n"
     ]
    }
   ],
   "source": [
    "def precision_at_k(y_true, y_score, k):\n",
    "    idx = np.argsort(y_score)[::-1][:k]\n",
    "    return y_true.iloc[idx].mean()\n",
    "\n",
    "k = int(0.1 * len(y_test))  # top 10%\n",
    "prec_log = precision_at_k(y_test.reset_index(drop=True), pd.Series(preds), k)\n",
    "prec_xgb = precision_at_k(y_test.reset_index(drop=True), pd.Series(preds_xgb), k)\n",
    "\n",
    "print(\"Precision@10% Regressão Logística:\", prec_log)\n",
    "print(\"Precision@10% XGBoost:\", prec_xgb)\n"
   ]
  },
  {
   "cell_type": "code",
   "execution_count": 6,
   "id": "9b3354a4-c5c4-4eb8-83ac-722637a7cc2d",
   "metadata": {},
   "outputs": [
    {
     "name": "stderr",
     "output_type": "stream",
     "text": [
      "C:\\Users\\DELL\\AppData\\Local\\Programs\\Python\\Python313\\Lib\\site-packages\\tqdm\\auto.py:21: TqdmWarning: IProgress not found. Please update jupyter and ipywidgets. See https://ipywidgets.readthedocs.io/en/stable/user_install.html\n",
      "  from .autonotebook import tqdm as notebook_tqdm\n"
     ]
    },
    {
     "data": {
      "image/png": "[encoded data removed]",
      "text/plain": [
       "<Figure size 800x350 with 1 Axes>"
      ]
     },
     "metadata": {},
     "output_type": "display_data"
    }
   ],
   "source": [
    "import shap\n",
    "\n",
    "explainer = shap.Explainer(bst)\n",
    "shap_values = explainer(X_test)\n",
    "shap.plots.bar(shap_values)\n"
   ]
  },
  {
   "cell_type": "code",
   "execution_count": 7,
   "id": "65f8aff3-a09d-4b26-a721-ce8f440b2698",
   "metadata": {},
   "outputs": [
    {
     "name": "stdout",
     "output_type": "stream",
     "text": [
      "✅ Modelos salvos em 'models/'\n"
     ]
    }
   ],
   "source": [
    "import joblib\n",
    "\n",
    "# Regressão Logística\n",
    "joblib.dump(clf, \"models/logistic_churn.pkl\")\n",
    "\n",
    "# XGBoost\n",
    "bst.save_model(\"models/xgb_churn.json\")\n",
    "\n",
    "print(\"✅ Modelos salvos em 'models/'\")\n"
   ]
  },
  {
   "cell_type": "code",
   "execution_count": null,
   "id": "75052544-9965-4303-8e37-bb24dfda5565",
   "metadata": {},
   "outputs": [],
   "source": []
  }
 ],
 "metadata": {
  "kernelspec": {
   "display_name": "Python 3 (ipykernel)",
   "language": "python",
   "name": "python3"
  },
  "language_info": {
   "codemirror_mode": {
    "name": "ipython",
    "version": 3
   },
   "file_extension": ".py",
   "mimetype": "text/x-python",
   "name": "python",
   "nbconvert_exporter": "python",
   "pygments_lexer": "ipython3",
   "version": "3.13.7"
  }
 },
 "nbformat": 4,
 "nbformat_minor": 5
}
