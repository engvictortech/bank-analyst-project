{
 "cells": [
  {
   "cell_type": "code",
   "execution_count": 1,
   "id": "5c5c69c0-c785-47b6-a33e-83aa13d72c5f",
   "metadata": {},
   "outputs": [
    {
     "data": {
      "text/html": [
       "<div>\n",
       "<style scoped>\n",
       "    .dataframe tbody tr th:only-of-type {\n",
       "        vertical-align: middle;\n",
       "    }\n",
       "\n",
       "    .dataframe tbody tr th {\n",
       "        vertical-align: top;\n",
       "    }\n",
       "\n",
       "    .dataframe thead th {\n",
       "        text-align: right;\n",
       "    }\n",
       "</style>\n",
       "<table border=\"1\" class=\"dataframe\">\n",
       "  <thead>\n",
       "    <tr style=\"text-align: right;\">\n",
       "      <th></th>\n",
       "      <th>customer_id</th>\n",
       "      <th>recency_days</th>\n",
       "      <th>frequency</th>\n",
       "      <th>monetary</th>\n",
       "      <th>products_count</th>\n",
       "      <th>churn_90d</th>\n",
       "    </tr>\n",
       "  </thead>\n",
       "  <tbody>\n",
       "    <tr>\n",
       "      <th>0</th>\n",
       "      <td>1</td>\n",
       "      <td>123.0</td>\n",
       "      <td>3.0</td>\n",
       "      <td>5754.60</td>\n",
       "      <td>0</td>\n",
       "      <td>0</td>\n",
       "    </tr>\n",
       "    <tr>\n",
       "      <th>1</th>\n",
       "      <td>2</td>\n",
       "      <td>92.0</td>\n",
       "      <td>3.0</td>\n",
       "      <td>9871.74</td>\n",
       "      <td>0</td>\n",
       "      <td>0</td>\n",
       "    </tr>\n",
       "    <tr>\n",
       "      <th>2</th>\n",
       "      <td>3</td>\n",
       "      <td>62.0</td>\n",
       "      <td>5.0</td>\n",
       "      <td>10495.10</td>\n",
       "      <td>0</td>\n",
       "      <td>0</td>\n",
       "    </tr>\n",
       "    <tr>\n",
       "      <th>3</th>\n",
       "      <td>4</td>\n",
       "      <td>31.0</td>\n",
       "      <td>4.0</td>\n",
       "      <td>6433.98</td>\n",
       "      <td>0</td>\n",
       "      <td>1</td>\n",
       "    </tr>\n",
       "    <tr>\n",
       "      <th>4</th>\n",
       "      <td>5</td>\n",
       "      <td>62.0</td>\n",
       "      <td>4.0</td>\n",
       "      <td>8384.69</td>\n",
       "      <td>0</td>\n",
       "      <td>0</td>\n",
       "    </tr>\n",
       "  </tbody>\n",
       "</table>\n",
       "</div>"
      ],
      "text/plain": [
       "   customer_id  recency_days  frequency  monetary  products_count  churn_90d\n",
       "0            1         123.0        3.0   5754.60               0          0\n",
       "1            2          92.0        3.0   9871.74               0          0\n",
       "2            3          62.0        5.0  10495.10               0          0\n",
       "3            4          31.0        4.0   6433.98               0          1\n",
       "4            5          62.0        4.0   8384.69               0          0"
      ]
     },
     "execution_count": 1,
     "metadata": {},
     "output_type": "execute_result"
    }
   ],
   "source": [
    "import pandas as pd\n",
    "import numpy as np\n",
    "import os\n",
    "\n",
    "# Ajustar diretório\n",
    "os.chdir(r\"C:\\Users\\DELL\\Documents\\bank-analyst-project\")\n",
    "\n",
    "# Carregar features\n",
    "df = pd.read_csv(\"data/processed/features_table.csv\")\n",
    "df.head()\n"
   ]
  },
  {
   "cell_type": "code",
   "execution_count": 2,
   "id": "f14d2eee-c5b6-4c91-aee7-32390d24536d",
   "metadata": {},
   "outputs": [
    {
     "name": "stdout",
     "output_type": "stream",
     "text": [
      "Tamanho train: 800\n",
      "Tamanho test: 200\n"
     ]
    }
   ],
   "source": [
    "from sklearn.model_selection import train_test_split\n",
    "\n",
    "# Exemplo de split aleatório (temporal seria ideal na vida real)\n",
    "train, test = train_test_split(df, test_size=0.2, random_state=42, shuffle=True)\n",
    "\n",
    "print(\"Tamanho train:\", len(train))\n",
    "print(\"Tamanho test:\", len(test))\n"
   ]
  },
  {
   "cell_type": "code",
   "execution_count": 3,
   "id": "86bd1308-be66-4bb2-b10f-df5e8db8b0a5",
   "metadata": {},
   "outputs": [
    {
     "name": "stdout",
     "output_type": "stream",
     "text": [
      "AUC Regressão Logística: 0.4286738351254481\n"
     ]
    }
   ],
   "source": [
    "from sklearn.linear_model import LogisticRegression\n",
    "from sklearn.metrics import roc_auc_score\n",
    "\n",
    "# Escolher features disponíveis (ajuste conforme seu CSV)\n",
    "feature_cols = ['recency_days','frequency','monetary','products_count']  # se não tiver age, não inclua\n",
    "X_train = train[feature_cols].fillna(0)\n",
    "y_train = train['churn_90d']\n",
    "X_test = test[feature_cols].fillna(0)\n",
    "y_test = test['churn_90d']\n",
    "\n",
    "# Treinar modelo\n",
    "clf = LogisticRegression(max_iter=1000)\n",
    "clf.fit(X_train, y_train)\n",
    "\n",
    "# Predição e AUC\n",
    "preds = clf.predict_proba(X_test)[:,1]\n",
    "auc_logistic = roc_auc_score(y_test, preds)\n",
    "print(\"AUC Regressão Logística:\", auc_logistic)\n"
   ]
  },
  {
   "cell_type": "code",
   "execution_count": 4,
   "id": "b46162f0-e1b6-4bd0-8648-dbac1f369f93",
   "metadata": {},
   "outputs": [
    {
     "name": "stdout",
     "output_type": "stream",
     "text": [
      "[0]\ttest-auc:0.59692\n",
      "[1]\ttest-auc:0.59670\n",
      "[2]\ttest-auc:0.57427\n",
      "[3]\ttest-auc:0.55649\n",
      "[4]\ttest-auc:0.54903\n",
      "[5]\ttest-auc:0.56029\n",
      "[6]\ttest-auc:0.56337\n",
      "[7]\ttest-auc:0.56495\n",
      "[8]\ttest-auc:0.56172\n",
      "[9]\ttest-auc:0.56115\n",
      "[10]\ttest-auc:0.56122\n",
      "[11]\ttest-auc:0.56939\n",
      "[12]\ttest-auc:0.55341\n",
      "[13]\ttest-auc:0.55685\n",
      "[14]\ttest-auc:0.55842\n",
      "[15]\ttest-auc:0.56315\n",
      "[16]\ttest-auc:0.56932\n",
      "[17]\ttest-auc:0.57405\n",
      "[18]\ttest-auc:0.56781\n",
      "[19]\ttest-auc:0.57534\n",
      "AUC XGBoost: 0.5751971326164873\n"
     ]
    }
   ],
   "source": [
    "import xgboost as xgb\n",
    "\n",
    "dtrain = xgb.DMatrix(X_train, label=y_train)\n",
    "dtest = xgb.DMatrix(X_test, label=y_test)\n",
    "\n",
    "params = {\"objective\":\"binary:logistic\", \"eval_metric\":\"auc\", \"seed\":42}\n",
    "bst = xgb.train(params, dtrain, num_boost_round=200, evals=[(dtest,'test')], early_stopping_rounds=20)\n",
    "\n",
    "preds_xgb = bst.predict(dtest)\n",
    "auc_xgb = roc_auc_score(y_test, preds_xgb)\n",
    "print(\"AUC XGBoost:\", auc_xgb)\n"
   ]
  },
  {
   "cell_type": "code",
   "execution_count": 5,
   "id": "df96d796-e33e-4744-89d8-59b48e944071",
   "metadata": {},
   "outputs": [
    {
     "name": "stdout",
     "output_type": "stream",
     "text": [
      "Precision@10% Regressão Logística: 0.2\n",
      "Precision@10% XGBoost: 0.35\n"
     ]
    }
   ],
   "source": [
    "def precision_at_k(y_true, y_score, k):\n",
    "    idx = np.argsort(y_score)[::-1][:k]\n",
    "    return y_true.iloc[idx].mean()\n",
    "\n",
    "k = int(0.1 * len(y_test))  # top 10%\n",
    "prec_log = precision_at_k(y_test.reset_index(drop=True), pd.Series(preds), k)\n",
    "prec_xgb = precision_at_k(y_test.reset_index(drop=True), pd.Series(preds_xgb), k)\n",
    "\n",
    "print(\"Precision@10% Regressão Logística:\", prec_log)\n",
    "print(\"Precision@10% XGBoost:\", prec_xgb)\n"
   ]
  },
  {
   "cell_type": "code",
   "execution_count": 6,
   "id": "9b3354a4-c5c4-4eb8-83ac-722637a7cc2d",
   "metadata": {},
   "outputs": [
    {
     "name": "stderr",
     "output_type": "stream",
     "text": [
      "C:\\Users\\DELL\\AppData\\Local\\Programs\\Python\\Python313\\Lib\\site-packages\\tqdm\\auto.py:21: TqdmWarning: IProgress not found. Please update jupyter and ipywidgets. See https://ipywidgets.readthedocs.io/en/stable/user_install.html\n",
      "  from .autonotebook import tqdm as notebook_tqdm\n"
     ]
    },
    {
     "data": {
      "image/png": "[encoded data removed]",
      "text/plain": [
       "<Figure size 800x350 with 1 Axes>"
      ]
     },
     "metadata": {},
     "output_type": "display_data"
    }
   ],
   "source": [
    "import shap\n",
    "\n",
    "explainer = shap.Explainer(bst)\n",
    "shap_values = explainer(X_test)\n",
    "shap.plots.bar(shap_values)\n"
   ]
  },
  {
   "cell_type": "code",
   "execution_count": 7,
   "id": "65f8aff3-a09d-4b26-a721-ce8f440b2698",
   "metadata": {},
   "outputs": [
    {
     "name": "stdout",
     "output_type": "stream",
     "text": [
      "✅ Modelos salvos em 'models/'\n"
     ]
    }
   ],
   "source": [
    "import joblib\n",
    "\n",
    "# Regressão Logística\n",
    "joblib.dump(clf, \"models/logistic_churn.pkl\")\n",
    "\n",
    "# XGBoost\n",
    "bst.save_model(\"models/xgb_churn.json\")\n",
    "\n",
    "print(\"✅ Modelos salvos em 'models/'\")\n"
   ]
  },
  {
   "cell_type": "code",
   "execution_count": 8,
   "id": "75052544-9965-4303-8e37-bb24dfda5565",
   "metadata": {},
   "outputs": [
    {
     "data": {
      "text/html": [
       "<div>\n",
       "<style scoped>\n",
       "    .dataframe tbody tr th:only-of-type {\n",
       "        vertical-align: middle;\n",
       "    }\n",
       "\n",
       "    .dataframe tbody tr th {\n",
       "        vertical-align: top;\n",
       "    }\n",
       "\n",
       "    .dataframe thead th {\n",
       "        text-align: right;\n",
       "    }\n",
       "</style>\n",
       "<table border=\"1\" class=\"dataframe\">\n",
       "  <thead>\n",
       "    <tr style=\"text-align: right;\">\n",
       "      <th></th>\n",
       "      <th>customer_id</th>\n",
       "      <th>recency_days</th>\n",
       "      <th>frequency</th>\n",
       "      <th>monetary</th>\n",
       "      <th>products_count</th>\n",
       "      <th>churn_90d</th>\n",
       "      <th>pred</th>\n",
       "    </tr>\n",
       "  </thead>\n",
       "  <tbody>\n",
       "    <tr>\n",
       "      <th>75</th>\n",
       "      <td>290</td>\n",
       "      <td>274.0</td>\n",
       "      <td>2.0</td>\n",
       "      <td>6579.48</td>\n",
       "      <td>0</td>\n",
       "      <td>0</td>\n",
       "      <td>0.869187</td>\n",
       "    </tr>\n",
       "    <tr>\n",
       "      <th>53</th>\n",
       "      <td>579</td>\n",
       "      <td>31.0</td>\n",
       "      <td>4.0</td>\n",
       "      <td>5842.89</td>\n",
       "      <td>0</td>\n",
       "      <td>0</td>\n",
       "      <td>0.677111</td>\n",
       "    </tr>\n",
       "    <tr>\n",
       "      <th>159</th>\n",
       "      <td>885</td>\n",
       "      <td>62.0</td>\n",
       "      <td>5.0</td>\n",
       "      <td>5858.10</td>\n",
       "      <td>0</td>\n",
       "      <td>1</td>\n",
       "      <td>0.577713</td>\n",
       "    </tr>\n",
       "    <tr>\n",
       "      <th>58</th>\n",
       "      <td>222</td>\n",
       "      <td>62.0</td>\n",
       "      <td>4.0</td>\n",
       "      <td>6192.38</td>\n",
       "      <td>0</td>\n",
       "      <td>1</td>\n",
       "      <td>0.543893</td>\n",
       "    </tr>\n",
       "    <tr>\n",
       "      <th>79</th>\n",
       "      <td>308</td>\n",
       "      <td>62.0</td>\n",
       "      <td>4.0</td>\n",
       "      <td>6174.09</td>\n",
       "      <td>0</td>\n",
       "      <td>1</td>\n",
       "      <td>0.508864</td>\n",
       "    </tr>\n",
       "    <tr>\n",
       "      <th>100</th>\n",
       "      <td>717</td>\n",
       "      <td>31.0</td>\n",
       "      <td>7.0</td>\n",
       "      <td>22909.22</td>\n",
       "      <td>0</td>\n",
       "      <td>0</td>\n",
       "      <td>0.475864</td>\n",
       "    </tr>\n",
       "    <tr>\n",
       "      <th>26</th>\n",
       "      <td>102</td>\n",
       "      <td>31.0</td>\n",
       "      <td>8.0</td>\n",
       "      <td>23213.09</td>\n",
       "      <td>0</td>\n",
       "      <td>0</td>\n",
       "      <td>0.470501</td>\n",
       "    </tr>\n",
       "    <tr>\n",
       "      <th>119</th>\n",
       "      <td>295</td>\n",
       "      <td>212.0</td>\n",
       "      <td>1.0</td>\n",
       "      <td>4078.08</td>\n",
       "      <td>0</td>\n",
       "      <td>1</td>\n",
       "      <td>0.464670</td>\n",
       "    </tr>\n",
       "    <tr>\n",
       "      <th>64</th>\n",
       "      <td>605</td>\n",
       "      <td>274.0</td>\n",
       "      <td>1.0</td>\n",
       "      <td>3177.22</td>\n",
       "      <td>0</td>\n",
       "      <td>0</td>\n",
       "      <td>0.450589</td>\n",
       "    </tr>\n",
       "    <tr>\n",
       "      <th>66</th>\n",
       "      <td>663</td>\n",
       "      <td>0.0</td>\n",
       "      <td>4.0</td>\n",
       "      <td>6628.85</td>\n",
       "      <td>0</td>\n",
       "      <td>0</td>\n",
       "      <td>0.447837</td>\n",
       "    </tr>\n",
       "  </tbody>\n",
       "</table>\n",
       "</div>"
      ],
      "text/plain": [
       "     customer_id  recency_days  frequency  monetary  products_count  \\\n",
       "75           290         274.0        2.0   6579.48               0   \n",
       "53           579          31.0        4.0   5842.89               0   \n",
       "159          885          62.0        5.0   5858.10               0   \n",
       "58           222          62.0        4.0   6192.38               0   \n",
       "79           308          62.0        4.0   6174.09               0   \n",
       "100          717          31.0        7.0  22909.22               0   \n",
       "26           102          31.0        8.0  23213.09               0   \n",
       "119          295         212.0        1.0   4078.08               0   \n",
       "64           605         274.0        1.0   3177.22               0   \n",
       "66           663           0.0        4.0   6628.85               0   \n",
       "\n",
       "     churn_90d      pred  \n",
       "75           0  0.869187  \n",
       "53           0  0.677111  \n",
       "159          1  0.577713  \n",
       "58           1  0.543893  \n",
       "79           1  0.508864  \n",
       "100          0  0.475864  \n",
       "26           0  0.470501  \n",
       "119          1  0.464670  \n",
       "64           0  0.450589  \n",
       "66           0  0.447837  "
      ]
     },
     "execution_count": 8,
     "metadata": {},
     "output_type": "execute_result"
    }
   ],
   "source": [
    "# Copiar o test set\n",
    "df_test = test.copy().reset_index(drop=True)\n",
    "\n",
    "# Adicionar as probabilidades do modelo XGBoost\n",
    "df_test['pred'] = preds_xgb\n",
    "\n",
    "# Visualizar os primeiros clientes com maior probabilidade de churn\n",
    "df_test.sort_values('pred', ascending=False).head(10)\n"
   ]
  },
  {
   "cell_type": "code",
   "execution_count": 9,
   "id": "29a0342d-d49a-43a3-88b2-81d2dd090bd6",
   "metadata": {},
   "outputs": [
    {
     "name": "stdout",
     "output_type": "stream",
     "text": [
      "Número de clientes selecionados: 20\n"
     ]
    },
    {
     "data": {
      "text/html": [
       "<div>\n",
       "<style scoped>\n",
       "    .dataframe tbody tr th:only-of-type {\n",
       "        vertical-align: middle;\n",
       "    }\n",
       "\n",
       "    .dataframe tbody tr th {\n",
       "        vertical-align: top;\n",
       "    }\n",
       "\n",
       "    .dataframe thead th {\n",
       "        text-align: right;\n",
       "    }\n",
       "</style>\n",
       "<table border=\"1\" class=\"dataframe\">\n",
       "  <thead>\n",
       "    <tr style=\"text-align: right;\">\n",
       "      <th></th>\n",
       "      <th>customer_id</th>\n",
       "      <th>recency_days</th>\n",
       "      <th>frequency</th>\n",
       "      <th>monetary</th>\n",
       "      <th>products_count</th>\n",
       "      <th>churn_90d</th>\n",
       "      <th>pred</th>\n",
       "    </tr>\n",
       "  </thead>\n",
       "  <tbody>\n",
       "    <tr>\n",
       "      <th>75</th>\n",
       "      <td>290</td>\n",
       "      <td>274.0</td>\n",
       "      <td>2.0</td>\n",
       "      <td>6579.48</td>\n",
       "      <td>0</td>\n",
       "      <td>0</td>\n",
       "      <td>0.869187</td>\n",
       "    </tr>\n",
       "    <tr>\n",
       "      <th>53</th>\n",
       "      <td>579</td>\n",
       "      <td>31.0</td>\n",
       "      <td>4.0</td>\n",
       "      <td>5842.89</td>\n",
       "      <td>0</td>\n",
       "      <td>0</td>\n",
       "      <td>0.677111</td>\n",
       "    </tr>\n",
       "    <tr>\n",
       "      <th>159</th>\n",
       "      <td>885</td>\n",
       "      <td>62.0</td>\n",
       "      <td>5.0</td>\n",
       "      <td>5858.10</td>\n",
       "      <td>0</td>\n",
       "      <td>1</td>\n",
       "      <td>0.577713</td>\n",
       "    </tr>\n",
       "    <tr>\n",
       "      <th>58</th>\n",
       "      <td>222</td>\n",
       "      <td>62.0</td>\n",
       "      <td>4.0</td>\n",
       "      <td>6192.38</td>\n",
       "      <td>0</td>\n",
       "      <td>1</td>\n",
       "      <td>0.543893</td>\n",
       "    </tr>\n",
       "    <tr>\n",
       "      <th>79</th>\n",
       "      <td>308</td>\n",
       "      <td>62.0</td>\n",
       "      <td>4.0</td>\n",
       "      <td>6174.09</td>\n",
       "      <td>0</td>\n",
       "      <td>1</td>\n",
       "      <td>0.508864</td>\n",
       "    </tr>\n",
       "  </tbody>\n",
       "</table>\n",
       "</div>"
      ],
      "text/plain": [
       "     customer_id  recency_days  frequency  monetary  products_count  \\\n",
       "75           290         274.0        2.0   6579.48               0   \n",
       "53           579          31.0        4.0   5842.89               0   \n",
       "159          885          62.0        5.0   5858.10               0   \n",
       "58           222          62.0        4.0   6192.38               0   \n",
       "79           308          62.0        4.0   6174.09               0   \n",
       "\n",
       "     churn_90d      pred  \n",
       "75           0  0.869187  \n",
       "53           0  0.677111  \n",
       "159          1  0.577713  \n",
       "58           1  0.543893  \n",
       "79           1  0.508864  "
      ]
     },
     "execution_count": 9,
     "metadata": {},
     "output_type": "execute_result"
    }
   ],
   "source": [
    "# Top 10% clientes para campanha\n",
    "top_k = df_test.sort_values('pred', ascending=False).head(int(0.1 * len(df_test)))\n",
    "print(\"Número de clientes selecionados:\", len(top_k))\n",
    "top_k.head()\n"
   ]
  },
  {
   "cell_type": "code",
   "execution_count": 10,
   "id": "01277b66-37d7-44f4-afd6-cc1840fbc8b9",
   "metadata": {},
   "outputs": [],
   "source": [
    "# Taxa de conversão estimada e ticket médio\n",
    "conversion_rate = 0.10  # 10%\n",
    "ticket = 200  # R$200 por cliente convertido\n"
   ]
  },
  {
   "cell_type": "code",
   "execution_count": 11,
   "id": "710c221a-670a-4329-bc7e-d7b0d2b204d1",
   "metadata": {},
   "outputs": [
    {
     "name": "stdout",
     "output_type": "stream",
     "text": [
      "Receita estimada com top-K: 400.0\n"
     ]
    }
   ],
   "source": [
    "estimated_revenue = len(top_k) * conversion_rate * ticket\n",
    "print(\"Receita estimada com top-K:\", estimated_revenue)\n"
   ]
  },
  {
   "cell_type": "code",
   "execution_count": 12,
   "id": "a125990b-3039-40ae-b068-f1174115fb9a",
   "metadata": {},
   "outputs": [
    {
     "name": "stdout",
     "output_type": "stream",
     "text": [
      "Receita estimada com abordagem aleatória: 400.0\n"
     ]
    }
   ],
   "source": [
    "# Seleção aleatória de mesmo tamanho\n",
    "random_sample = df_test.sample(len(top_k), random_state=42)\n",
    "revenue_random = len(random_sample) * conversion_rate * ticket\n",
    "print(\"Receita estimada com abordagem aleatória:\", revenue_random)\n"
   ]
  },
  {
   "cell_type": "code",
   "execution_count": 13,
   "id": "bd2de567-eff7-48d3-aee8-9bf0e84ff5d2",
   "metadata": {},
   "outputs": [
    {
     "name": "stdout",
     "output_type": "stream",
     "text": [
      "Conv=5%, Ticket=R$150: Receita top-K=150.0, Receita random=150.0\n",
      "Conv=5%, Ticket=R$200: Receita top-K=200.0, Receita random=200.0\n",
      "Conv=5%, Ticket=R$300: Receita top-K=300.0, Receita random=300.0\n",
      "Conv=10%, Ticket=R$150: Receita top-K=300.0, Receita random=300.0\n",
      "Conv=10%, Ticket=R$200: Receita top-K=400.0, Receita random=400.0\n",
      "Conv=10%, Ticket=R$300: Receita top-K=600.0, Receita random=600.0\n",
      "Conv=20%, Ticket=R$150: Receita top-K=600.0, Receita random=600.0\n",
      "Conv=20%, Ticket=R$200: Receita top-K=800.0, Receita random=800.0\n",
      "Conv=20%, Ticket=R$300: Receita top-K=1200.0, Receita random=1200.0\n"
     ]
    }
   ],
   "source": [
    "conversion_rates = [0.05, 0.10, 0.20]\n",
    "tickets = [150, 200, 300]\n",
    "\n",
    "for conv in conversion_rates:\n",
    "    for t in tickets:\n",
    "        rev_model = len(top_k) * conv * t\n",
    "        rev_random = len(random_sample) * conv * t\n",
    "        print(f\"Conv={conv*100:.0f}%, Ticket=R${t}: Receita top-K={rev_model}, Receita random={rev_random}\")\n"
   ]
  },
  {
   "cell_type": "code",
   "execution_count": 15,
   "id": "46543031-259d-467c-8fa9-8847f80804ee",
   "metadata": {},
   "outputs": [
    {
     "data": {
      "image/png": "[encoded data removed]",
      "text/plain": [
       "<Figure size 1000x600 with 1 Axes>"
      ]
     },
     "metadata": {},
     "output_type": "display_data"
    }
   ],
   "source": [
    "import matplotlib.pyplot as plt\n",
    "import pandas as pd\n",
    "\n",
    "# Listas de cenários\n",
    "conversion_rates = [0.05, 0.10, 0.20]\n",
    "tickets = [150, 200, 300]\n",
    "\n",
    "# Guardar resultados\n",
    "results = []\n",
    "\n",
    "for conv in conversion_rates:\n",
    "    for t in tickets:\n",
    "        rev_model = len(top_k) * conv * t\n",
    "        rev_random = len(random_sample) * conv * t\n",
    "        results.append({\n",
    "            'Conversion Rate': conv,\n",
    "            'Ticket': t,\n",
    "            'Revenue Model': rev_model,\n",
    "            'Revenue Random': rev_random\n",
    "        })\n",
    "\n",
    "# Transformar em DataFrame\n",
    "df_results = pd.DataFrame(results)\n",
    "\n",
    "# Plot\n",
    "fig, ax = plt.subplots(figsize=(10,6))\n",
    "\n",
    "for t in tickets:\n",
    "    subset = df_results[df_results['Ticket'] == t]\n",
    "    ax.plot(subset['Conversion Rate']*100, subset['Revenue Model'], marker='o', label=f'Model Ticket R${t}')\n",
    "    ax.plot(subset['Conversion Rate']*100, subset['Revenue Random'], marker='x', linestyle='--', label=f'Random Ticket R${t}')\n",
    "\n",
    "ax.set_xlabel(\"Conversion Rate (%)\")\n",
    "ax.set_ylabel(\"Estimated Revenue (R$)\")\n",
    "ax.set_title(\"Receita estimada: Modelo vs Random por cenário\")\n",
    "ax.legend()\n",
    "ax.grid(True)\n",
    "plt.show()\n",
    "\n"
   ]
  },
  {
   "cell_type": "code",
   "execution_count": null,
   "id": "66aeedcb-2695-4c25-8ca2-747629c958ec",
   "metadata": {},
   "outputs": [],
   "source": []
  }
 ],
 "metadata": {
  "kernelspec": {
   "display_name": "Python 3 (ipykernel)",
   "language": "python",
   "name": "python3"
  },
  "language_info": {
   "codemirror_mode": {
    "name": "ipython",
    "version": 3
   },
   "file_extension": ".py",
   "mimetype": "text/x-python",
   "name": "python",
   "nbconvert_exporter": "python",
   "pygments_lexer": "ipython3",
   "version": "3.13.7"
  }
 },
 "nbformat": 4,
 "nbformat_minor": 5
}
