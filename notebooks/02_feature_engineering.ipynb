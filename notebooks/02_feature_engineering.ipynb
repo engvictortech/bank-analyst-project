{
 "cells": [
  {
   "cell_type": "code",
   "execution_count": 1,
   "id": "f963e177-75e7-4327-bfe1-aac005fdbbe7",
   "metadata": {},
   "outputs": [
    {
     "name": "stdout",
     "output_type": "stream",
     "text": [
      "Diretório atual: C:\\Users\\DELL\\Documents\\bank-analyst-project\n"
     ]
    }
   ],
   "source": [
    "import pandas as pd\n",
    "import numpy as np\n",
    "from datetime import datetime\n",
    "import os\n",
    "\n",
    "# Ajustar diretório para a raiz do projeto\n",
    "os.chdir(r\"C:\\Users\\DELL\\Documents\\bank-analyst-project\")\n",
    "print(\"Diretório atual:\", os.getcwd())\n"
   ]
  },
  {
   "cell_type": "code",
   "execution_count": 2,
   "id": "041d2053-322a-4707-9485-7092e8829ad1",
   "metadata": {},
   "outputs": [
    {
     "name": "stdout",
     "output_type": "stream",
     "text": [
      "Dados carregados com sucesso\n"
     ]
    }
   ],
   "source": [
    "# Clientes\n",
    "customers = pd.read_csv(\"data/raw/customers.csv\")\n",
    "\n",
    "# Agregados mensais\n",
    "monthly = pd.read_csv(\"data/processed/monthly_agg.csv\", parse_dates=[\"month\"])\n",
    "\n",
    "# Transações (para churn)\n",
    "tx = pd.read_csv(\"data/raw/transactions.csv\", parse_dates=[\"txn_date\"])\n",
    "\n",
    "print(\"Dados carregados com sucesso\")\n"
   ]
  },
  {
   "cell_type": "code",
   "execution_count": 3,
   "id": "65dbf7c4-4037-4b86-ad3b-2ccdf335cdbc",
   "metadata": {},
   "outputs": [
    {
     "name": "stdout",
     "output_type": "stream",
     "text": [
      "Último mês disponível: 2025-09-01 00:00:00\n"
     ]
    }
   ],
   "source": [
    "ref_month = monthly['month'].max()\n",
    "ref_date = pd.to_datetime(ref_month)\n",
    "print(\"Último mês disponível:\", ref_month)\n"
   ]
  },
  {
   "cell_type": "code",
   "execution_count": 4,
   "id": "fe38afe4-af57-47e5-bc67-6e0391388b7b",
   "metadata": {},
   "outputs": [],
   "source": [
    "# Recency\n",
    "last_txn = monthly.groupby('customer_id').agg(last_txn_month=('month','max')).reset_index()\n",
    "last_txn['recency_days'] = (ref_date - last_txn['last_txn_month']).dt.days\n",
    "\n",
    "# Frequency\n",
    "frequency = monthly.groupby('customer_id').agg(frequency=('txn_count','sum')).reset_index()\n",
    "\n",
    "# Monetary\n",
    "monetary = monthly.groupby('customer_id').agg(monetary=('txn_amount_sum','sum')).reset_index()\n"
   ]
  },
  {
   "cell_type": "code",
   "execution_count": 5,
   "id": "487a0c2f-a166-4fe3-81c3-396e5e91060f",
   "metadata": {},
   "outputs": [],
   "source": [
    "# Criar colunas de produtos fictícias se não existirem\n",
    "for col in ['checking','savings','credit_card','personal_loan','mortgage']:\n",
    "    if col not in customers.columns:\n",
    "        customers[col] = 0\n",
    "\n",
    "customers['products_count'] = customers[['checking','savings','credit_card','personal_loan','mortgage']].sum(axis=1)\n"
   ]
  },
  {
   "cell_type": "code",
   "execution_count": 6,
   "id": "947405c7-7d7b-48b8-bf21-89ba0b534e21",
   "metadata": {},
   "outputs": [],
   "source": [
    "feat = customers[['customer_id','products_count']]\\\n",
    "        .merge(last_txn[['customer_id','recency_days']], on='customer_id', how='left')\\\n",
    "        .merge(frequency, on='customer_id', how='left')\\\n",
    "        .merge(monetary, on='customer_id', how='left')\n",
    "\n",
    "feat['frequency'] = feat['frequency'].fillna(0)\n",
    "feat['monetary'] = feat['monetary'].fillna(0)\n"
   ]
  },
  {
   "cell_type": "code",
   "execution_count": 7,
   "id": "c70efcb7-be23-4482-9e5f-180d2e04d715",
   "metadata": {},
   "outputs": [],
   "source": [
    "# Última transação real por cliente\n",
    "last_tx = tx.groupby('customer_id')['txn_date'].max().reset_index()\n",
    "last_tx['days_since_last_tx'] = (ref_date - last_tx['txn_date']).dt.days\n",
    "\n",
    "# Adicionar churn_90d\n",
    "feat = feat.merge(last_tx[['customer_id','days_since_last_tx']], on='customer_id', how='left')\n",
    "feat['churn_90d'] = np.where(feat['days_since_last_tx'] > 90, 1, 0)\n"
   ]
  },
  {
   "cell_type": "code",
   "execution_count": 8,
   "id": "579d6ee8-e960-41ef-b919-b1e375677b39",
   "metadata": {},
   "outputs": [
    {
     "name": "stdout",
     "output_type": "stream",
     "text": [
      "✅ features_table.csv gerado em data/processed/\n"
     ]
    }
   ],
   "source": [
    "feat[['customer_id','recency_days','frequency','monetary','products_count','churn_90d']]\\\n",
    "    .to_csv(\"data/processed/features_table.csv\", index=False)\n",
    "\n",
    "print(\"✅ features_table.csv gerado em data/processed/\")\n"
   ]
  },
  {
   "cell_type": "code",
   "execution_count": null,
   "id": "5d327ecb-6c80-42de-b17b-d2a48ee62c52",
   "metadata": {},
   "outputs": [],
   "source": []
  }
 ],
 "metadata": {
  "kernelspec": {
   "display_name": "Python 3 (ipykernel)",
   "language": "python",
   "name": "python3"
  },
  "language_info": {
   "codemirror_mode": {
    "name": "ipython",
    "version": 3
   },
   "file_extension": ".py",
   "mimetype": "text/x-python",
   "name": "python",
   "nbconvert_exporter": "python",
   "pygments_lexer": "ipython3",
   "version": "3.13.7"
  }
 },
 "nbformat": 4,
 "nbformat_minor": 5
}
